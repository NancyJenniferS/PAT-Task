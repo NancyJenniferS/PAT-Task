{
 "cells": [
  {
   "cell_type": "code",
   "execution_count": 8,
   "id": "8c74b64a",
   "metadata": {},
   "outputs": [
    {
     "name": "stdout",
     "output_type": "stream",
     "text": [
      "Even lists: [10, 22, 100]\n",
      "Odd lists: [501, 37, 999, 87, 351]\n"
     ]
    }
   ],
   "source": [
    "#Question 1\n",
    "\n",
    "# Function to split\n",
    "def Split(num):\n",
    "    even = []\n",
    "    odd = []\n",
    "    for i in num:\n",
    "        if (i % 2 == 0):\n",
    "            even.append(i)\n",
    "        else:\n",
    "            odd.append(i)\n",
    "    print(\"Even lists:\", even)\n",
    "    print(\"Odd lists:\", odd)\n",
    " \n",
    " \n",
    "# Driver Code\n",
    "num= [10,501,22,37,100,999,87,351]\n",
    "Split(num)"
   ]
  },
  {
   "cell_type": "code",
   "execution_count": 7,
   "id": "7da77423",
   "metadata": {},
   "outputs": [
    {
     "name": "stdout",
     "output_type": "stream",
     "text": [
      "Your List is :  [10, 501, 22, 37, 100, 999, 87, 351]\n",
      "Prime numbers in your list is/are : \n",
      "37\n"
     ]
    }
   ],
   "source": [
    "#Question 2\n",
    "\n",
    "mylist = [10,501,22,37,100,999,87,351]\n",
    "print(\"Your List is : \", mylist) \n",
    "print(\"Prime numbers in your list is/are : \") \n",
    "for num in mylist: \n",
    " # As 1 is not a prime number \n",
    " if num > 1: \n",
    "   for i in range(2,num): \n",
    "     if (num % i) == 0: \n",
    "       break \n",
    "   else: \n",
    "     print(num)"
   ]
  },
  {
   "cell_type": "code",
   "execution_count": null,
   "id": "bcc2c9e6",
   "metadata": {},
   "outputs": [],
   "source": [
    "# Question 3 \n",
    "# Happy numbers "
   ]
  },
  {
   "cell_type": "code",
   "execution_count": 10,
   "id": "a754cad0",
   "metadata": {},
   "outputs": [
    {
     "name": "stdout",
     "output_type": "stream",
     "text": [
      "result 8\n"
     ]
    }
   ],
   "source": [
    "#Question 4\n",
    "\n",
    "num = 1247\n",
    "num = str(num)\n",
    " \n",
    "first_num = int(num[0])\n",
    "last_num= int(num[-1])\n",
    "\n",
    "add = first_num+ last_num\n",
    "\n",
    "print('result', \n",
    "      add)"
   ]
  },
  {
   "cell_type": "code",
   "execution_count": 15,
   "id": "798c324b",
   "metadata": {},
   "outputs": [
    {
     "name": "stdout",
     "output_type": "stream",
     "text": [
      "[88, 1, 5, 7, 33]\n"
     ]
    }
   ],
   "source": [
    "#Question 6\n",
    "\n",
    "list1 = [1,5,7,88,99,33,24,56,77,88,1,4,5,1,3,7,90,1,5,88,33] \n",
    " \n",
    "uniqueList = []\n",
    "duplicateList = []\n",
    " \n",
    "for i in list:\n",
    "    if i not in uniqueList:\n",
    "        uniqueList.append(i)\n",
    "    elif i not in duplicateList:\n",
    "        duplicateList.append(i)\n",
    " \n",
    "print(duplicateList)"
   ]
  },
  {
   "cell_type": "code",
   "execution_count": 17,
   "id": "2db283c8",
   "metadata": {},
   "outputs": [
    {
     "name": "stdout",
     "output_type": "stream",
     "text": [
      "[1, 5, 7, 88, 99, 33, 24, 56, 77, 4, 3, 90]\n"
     ]
    }
   ],
   "source": [
    "#Question 7\n",
    "\n",
    "list1 = [1,5,7,88,99,33,24,56,77,88,1,4,5,1,3,7,90,1,5,88,33] \n",
    " \n",
    "uniqueList = []\n",
    "duplicateList = []\n",
    " \n",
    "for i in list:\n",
    "    if i not in uniqueList:\n",
    "        uniqueList.append(i)\n",
    "    elif i not in duplicateList:\n",
    "        duplicateList.append(i)\n",
    " \n",
    "print(uniqueList)"
   ]
  },
  {
   "cell_type": "code",
   "execution_count": null,
   "id": "6ab980d1",
   "metadata": {},
   "outputs": [],
   "source": []
  }
 ],
 "metadata": {
  "kernelspec": {
   "display_name": "Python 3 (ipykernel)",
   "language": "python",
   "name": "python3"
  },
  "language_info": {
   "codemirror_mode": {
    "name": "ipython",
    "version": 3
   },
   "file_extension": ".py",
   "mimetype": "text/x-python",
   "name": "python",
   "nbconvert_exporter": "python",
   "pygments_lexer": "ipython3",
   "version": "3.11.4"
  }
 },
 "nbformat": 4,
 "nbformat_minor": 5
}
